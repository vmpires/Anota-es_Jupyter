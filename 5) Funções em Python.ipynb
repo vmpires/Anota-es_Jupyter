{
 "cells": [
  {
   "cell_type": "markdown",
   "metadata": {},
   "source": [
    "# Funções\n",
    "\n",
    "Funções são blocos de código que realizam determinadas tarefas que normalmente precisam ser executadas diversas vezes dentro de uma aplicação.\n"
   ]
  },
  {
   "cell_type": "markdown",
   "metadata": {},
   "source": [
    "### Criando Funções\n",
    "A sintaxe da função é definida por três parte:\n",
    "- **Nome:** como a chamamos\n",
    "- **Parâmetros:** o que ela vai utilizar de variavel externa para executar o comportamento\n",
    "- **Comportamento:** o que a função fará\n"
   ]
  },
  {
   "cell_type": "code",
   "execution_count": null,
   "metadata": {},
   "outputs": [],
   "source": [
    "def main():\n",
    "    # comandos da função\n",
    "    pass\n",
    "    \n",
    "main()"
   ]
  },
  {
   "cell_type": "markdown",
   "metadata": {},
   "source": [
    "**Exemplo simples do uso de funções:**"
   ]
  },
  {
   "cell_type": "code",
   "execution_count": 10,
   "metadata": {},
   "outputs": [
    {
     "name": "stdout",
     "output_type": "stream",
     "text": [
      "Olá Victor, você tem: 29 anos!\n"
     ]
    }
   ],
   "source": [
    "def ola_idade(meu_nome,minha_idade):\n",
    "    print(f'Olá {meu_nome}, você tem: {minha_idade} anos!')\n",
    "    \n",
    "ola_idade('Victor',29)"
   ]
  },
  {
   "cell_type": "markdown",
   "metadata": {},
   "source": [
    "Assim como podem receber valores de entrada, as funções também podem produzir valores de saída, provenientes de determinadas operações.\n",
    "\n",
    "No exemplo anterior, apenas imprimi um valor com a função print, sem retornar explicitamente um resultado. Já na Listagem 1 abaixo, temos uma função de 2 parâmetros que faz o cálculo de uma média."
   ]
  },
  {
   "cell_type": "code",
   "execution_count": 12,
   "metadata": {},
   "outputs": [
    {
     "name": "stdout",
     "output_type": "stream",
     "text": [
      "Minha média: 8.0\n"
     ]
    }
   ],
   "source": [
    "def media(nota1,nota2):\n",
    "    media = (nota1 + nota2) / 2\n",
    "    return media\n",
    "    \n",
    "    # set  ->  # get\n",
    "minha_media = media(7,9)\n",
    "print(f'Minha média: {minha_media}')"
   ]
  },
  {
   "cell_type": "markdown",
   "metadata": {},
   "source": [
    "### Uma função também pode ser chamada por outra, tornando um processo mais automatizado em diferentes etapas."
   ]
  },
  {
   "cell_type": "code",
   "execution_count": 13,
   "metadata": {},
   "outputs": [
    {
     "name": "stdout",
     "output_type": "stream",
     "text": [
      "Minha primeira nota: 6\n",
      "Minha segunda nota: 9\n",
      "Minha média é: 7.5\n"
     ]
    }
   ],
   "source": [
    "# Função ReceberNotas():\n",
    "    # Recebe duas notas -> Inputs\n",
    "\n",
    "# Função Media(nota1,nota2)\n",
    "    # Calcular as duas notas\n",
    "    # Retornar a média\n",
    "        \n",
    "def media():\n",
    "    nota1 = float(input('Minha primeira nota: '))\n",
    "    nota2 = float(input('Minha segunda nota: '))\n",
    "    return calcular_media(nota1,nota2)\n",
    "    \n",
    "def calcular_media(nota1,nota2):\n",
    "    media = (nota1 + nota2) / 2\n",
    "    return media\n",
    "\n",
    "minha_media = media()\n",
    "print(\"Minha média é:\",minha_media)"
   ]
  },
  {
   "cell_type": "markdown",
   "metadata": {},
   "source": [
    "- Uma função pode chamar outra função dentro dela\n",
    "- Podemos retornar (return) uma função, contanto que essa função de retorno também retorne um valor\n",
    "- Podemos enviar uma função por parâmetro, contanto que essa função enviada retorne um valor"
   ]
  },
  {
   "cell_type": "markdown",
   "metadata": {},
   "source": [
    "**Funções Nativas do Python**\n",
    "- Funções nativas do Python são usadas o tempo todo.\n",
    "- Ex:\n",
    "    - Print()\n",
    "        - Mostra um valor para o usuário => Não retorna dado, então não possui return\n",
    "    - List()\n",
    "        - Cria uma lista => Retorna um dado, então é uma função com return\n",
    "    - Int()\n",
    "        - É uma função de cast (conversão de dado) que transforma o tipo do dado em inteiro\n",
    "    - Str()\n",
    "        - É uma função de cast (conversão de dado) que transforma o tipo da variavel para string\n",
    "    - Float()\n",
    "        - É uma função de cast (conversão de dado) que transforma o tipo da variavel para float\n",
    "    - Bool()\n",
    "        - É uma função de cast (conversão de dado) que transforma o tipo da variável para booleano\n",
    "    - Type()\n",
    "        - Mostra o tipo do dado\n",
    "    - Dir()\n",
    "        - Mostra as 'opções' de um determinado parâmetro (variável/classe/função)\n",
    "    - Help()\n",
    "        - Mostra uma ajuda para determinada função/classe/variável"
   ]
  },
  {
   "cell_type": "markdown",
   "metadata": {},
   "source": [
    "**Funções nativas ficam no __builtin__ do python**.  \n",
    "Funções nativas podem ser usadas em qualquer lugar do nosso código, pois elas já vem com o Python."
   ]
  },
  {
   "cell_type": "code",
   "execution_count": 14,
   "metadata": {},
   "outputs": [
    {
     "data": {
      "text/plain": [
       "['ArithmeticError',\n",
       " 'AssertionError',\n",
       " 'AttributeError',\n",
       " 'BaseException',\n",
       " 'BlockingIOError',\n",
       " 'BrokenPipeError',\n",
       " 'BufferError',\n",
       " 'BytesWarning',\n",
       " 'ChildProcessError',\n",
       " 'ConnectionAbortedError',\n",
       " 'ConnectionError',\n",
       " 'ConnectionRefusedError',\n",
       " 'ConnectionResetError',\n",
       " 'DeprecationWarning',\n",
       " 'EOFError',\n",
       " 'Ellipsis',\n",
       " 'EnvironmentError',\n",
       " 'Exception',\n",
       " 'False',\n",
       " 'FileExistsError',\n",
       " 'FileNotFoundError',\n",
       " 'FloatingPointError',\n",
       " 'FutureWarning',\n",
       " 'GeneratorExit',\n",
       " 'IOError',\n",
       " 'ImportError',\n",
       " 'ImportWarning',\n",
       " 'IndentationError',\n",
       " 'IndexError',\n",
       " 'InterruptedError',\n",
       " 'IsADirectoryError',\n",
       " 'KeyError',\n",
       " 'KeyboardInterrupt',\n",
       " 'LookupError',\n",
       " 'MemoryError',\n",
       " 'ModuleNotFoundError',\n",
       " 'NameError',\n",
       " 'None',\n",
       " 'NotADirectoryError',\n",
       " 'NotImplemented',\n",
       " 'NotImplementedError',\n",
       " 'OSError',\n",
       " 'OverflowError',\n",
       " 'PendingDeprecationWarning',\n",
       " 'PermissionError',\n",
       " 'ProcessLookupError',\n",
       " 'RecursionError',\n",
       " 'ReferenceError',\n",
       " 'ResourceWarning',\n",
       " 'RuntimeError',\n",
       " 'RuntimeWarning',\n",
       " 'StopAsyncIteration',\n",
       " 'StopIteration',\n",
       " 'SyntaxError',\n",
       " 'SyntaxWarning',\n",
       " 'SystemError',\n",
       " 'SystemExit',\n",
       " 'TabError',\n",
       " 'TimeoutError',\n",
       " 'True',\n",
       " 'TypeError',\n",
       " 'UnboundLocalError',\n",
       " 'UnicodeDecodeError',\n",
       " 'UnicodeEncodeError',\n",
       " 'UnicodeError',\n",
       " 'UnicodeTranslateError',\n",
       " 'UnicodeWarning',\n",
       " 'UserWarning',\n",
       " 'ValueError',\n",
       " 'Warning',\n",
       " 'WindowsError',\n",
       " 'ZeroDivisionError',\n",
       " '__IPYTHON__',\n",
       " '__build_class__',\n",
       " '__debug__',\n",
       " '__doc__',\n",
       " '__import__',\n",
       " '__loader__',\n",
       " '__name__',\n",
       " '__package__',\n",
       " '__spec__',\n",
       " 'abs',\n",
       " 'all',\n",
       " 'any',\n",
       " 'ascii',\n",
       " 'bin',\n",
       " 'bool',\n",
       " 'breakpoint',\n",
       " 'bytearray',\n",
       " 'bytes',\n",
       " 'callable',\n",
       " 'chr',\n",
       " 'classmethod',\n",
       " 'compile',\n",
       " 'complex',\n",
       " 'copyright',\n",
       " 'credits',\n",
       " 'delattr',\n",
       " 'dict',\n",
       " 'dir',\n",
       " 'display',\n",
       " 'divmod',\n",
       " 'enumerate',\n",
       " 'eval',\n",
       " 'exec',\n",
       " 'filter',\n",
       " 'float',\n",
       " 'format',\n",
       " 'frozenset',\n",
       " 'get_ipython',\n",
       " 'getattr',\n",
       " 'globals',\n",
       " 'hasattr',\n",
       " 'hash',\n",
       " 'help',\n",
       " 'hex',\n",
       " 'id',\n",
       " 'input',\n",
       " 'int',\n",
       " 'isinstance',\n",
       " 'issubclass',\n",
       " 'iter',\n",
       " 'len',\n",
       " 'license',\n",
       " 'list',\n",
       " 'locals',\n",
       " 'map',\n",
       " 'max',\n",
       " 'memoryview',\n",
       " 'min',\n",
       " 'next',\n",
       " 'object',\n",
       " 'oct',\n",
       " 'open',\n",
       " 'ord',\n",
       " 'pow',\n",
       " 'print',\n",
       " 'property',\n",
       " 'range',\n",
       " 'repr',\n",
       " 'reversed',\n",
       " 'round',\n",
       " 'set',\n",
       " 'setattr',\n",
       " 'slice',\n",
       " 'sorted',\n",
       " 'staticmethod',\n",
       " 'str',\n",
       " 'sum',\n",
       " 'super',\n",
       " 'tuple',\n",
       " 'type',\n",
       " 'vars',\n",
       " 'zip']"
      ]
     },
     "execution_count": 14,
     "metadata": {},
     "output_type": "execute_result"
    }
   ],
   "source": [
    "# __builtin__ => \"Já vem feito\" => Funções/Variáveis nativas do Python\n",
    "dir(__builtin__)"
   ]
  },
  {
   "cell_type": "code",
   "execution_count": null,
   "metadata": {},
   "outputs": [],
   "source": []
  }
 ],
 "metadata": {
  "kernelspec": {
   "display_name": "Python 3",
   "language": "python",
   "name": "python3"
  },
  "language_info": {
   "codemirror_mode": {
    "name": "ipython",
    "version": 3
   },
   "file_extension": ".py",
   "mimetype": "text/x-python",
   "name": "python",
   "nbconvert_exporter": "python",
   "pygments_lexer": "ipython3",
   "version": "3.8.5"
  }
 },
 "nbformat": 4,
 "nbformat_minor": 4
}
