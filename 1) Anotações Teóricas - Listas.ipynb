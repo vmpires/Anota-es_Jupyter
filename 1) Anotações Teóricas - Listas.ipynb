{
 "cells": [
  {
   "cell_type": "markdown",
   "metadata": {},
   "source": [
    "# Anotações teóricas - Listas em Python\n",
    "### Serve para trabalhar com diversos valores em apenas uma variável\n",
    "Cada posição tem um índice começando em 0.\n",
    "\n",
    "Exemplo:"
   ]
  },
  {
   "cell_type": "code",
   "execution_count": 2,
   "metadata": {},
   "outputs": [
    {
     "name": "stdout",
     "output_type": "stream",
     "text": [
      "Victor\n",
      "Milhome\n",
      "Pires\n",
      "Programador\n"
     ]
    }
   ],
   "source": [
    "primeira_lista = ['Victor', 'Milhome', 'Pires', 'Programador']\n",
    "#------Posição------ 1º ------ 2º ------- 3º ------ 4º ------\n",
    "#------Índice--------0---------1----------2---------3--------\n",
    "print(primeira_lista[0])\n",
    "print(primeira_lista[1])\n",
    "print(primeira_lista[2])\n",
    "print(primeira_lista[3])"
   ]
  },
  {
   "cell_type": "markdown",
   "metadata": {},
   "source": [
    "## Copiando uma lista para outra (atribuindo o valor)\n",
    "A lista B passa a Referenciar a lista A, então, uma alteração na B também altera a A (e vice-versa)"
   ]
  },
  {
   "cell_type": "code",
   "execution_count": 12,
   "metadata": {},
   "outputs": [
    {
     "name": "stdout",
     "output_type": "stream",
     "text": [
      "[1, 2, 3, 4]\n",
      "[1, 2, 3, 4]\n"
     ]
    }
   ],
   "source": [
    "lista_a = [1,2,3]\n",
    "lista_b = lista_a\n",
    "lista_b.append(4)\n",
    "print(lista_a)\n",
    "print(lista_b)"
   ]
  },
  {
   "cell_type": "markdown",
   "metadata": {},
   "source": [
    "## Recuperando elementos da lista\n",
    "Para pegar um valor da lista, usamos o índice do elemento que queremos"
   ]
  },
  {
   "cell_type": "code",
   "execution_count": 13,
   "metadata": {},
   "outputs": [
    {
     "name": "stdout",
     "output_type": "stream",
     "text": [
      "1\n",
      "2\n",
      "3\n"
     ]
    }
   ],
   "source": [
    "lista_a = [1,2,3]\n",
    "elemento1 = lista_a[0]\n",
    "elemento2 = lista_a[1]\n",
    "elemento3 = lista_a[2]\n",
    "print(elemento1)\n",
    "print(elemento2)\n",
    "print(elemento3)"
   ]
  },
  {
   "cell_type": "markdown",
   "metadata": {},
   "source": [
    "Para recuperarmos com mais de um elemento, vamos pegar uma **fatia** da lista  \n",
    "Fatia funciona da seguinte maneira:  \n",
    "- Nós queremos da posição X até a posição Y\n",
    "- Então nós queremos [X:Y]\n",
    "- Ou seja... [Inicial : Final]\n",
    "\n",
    "\n",
    "\n",
    " - Caso não tenha um dos valores na fatia, pegaremos TUDO daquele 'lado'\n",
    " Exemplo:\n",
    " - Para lista[1:4] -> Pegamos elementos entre 1 e 4\n",
    " - Para listas[:4] -> Pegamos elementos até 4\n",
    " - Para listas[2:] -> Pegamos elementos a partir do 2"
   ]
  },
  {
   "cell_type": "code",
   "execution_count": 14,
   "metadata": {},
   "outputs": [
    {
     "name": "stdout",
     "output_type": "stream",
     "text": [
      "[1, 2, 3]\n",
      "[0, 1, 2, 3]\n",
      "[2, 3, 4, 5, 6, 7, 8, 9, 10]\n"
     ]
    }
   ],
   "source": [
    "lista = [0,1,2,3,4,5,6,7,8,9,10]\n",
    "primeiro_teste = lista[1:4] # Entre 1 e 4\n",
    "segundo_teste = lista[:4] # Até 4\n",
    "terceiro_teste = lista[2:] # A partir de 2\n",
    "\n",
    "print(primeiro_teste)\n",
    "print(segundo_teste)\n",
    "print(terceiro_teste)"
   ]
  },
  {
   "cell_type": "markdown",
   "metadata": {},
   "source": [
    "## Juntando listas (join)\n",
    "Serve para 'somar' (juntar) duas ou mais listas"
   ]
  },
  {
   "cell_type": "code",
   "execution_count": 23,
   "metadata": {},
   "outputs": [
    {
     "name": "stdout",
     "output_type": "stream",
     "text": [
      "['Victor', 'Pires']\n"
     ]
    }
   ],
   "source": [
    "string1 = ['Victor']\n",
    "string2 = ['Pires']\n",
    "\n",
    "string3 = string1+string2\n",
    "\n",
    "print(string3)"
   ]
  },
  {
   "cell_type": "markdown",
   "metadata": {},
   "source": [
    "## Funções Nativas para listas\n",
    "**Primeira função:** append() => Insere um elemento no final na lista\n"
   ]
  },
  {
   "cell_type": "markdown",
   "metadata": {},
   "source": [
    "## Função APPEND()\n",
    "#### Serve para adicionar itens na lista, o item adicionado vai para a última posição"
   ]
  },
  {
   "cell_type": "code",
   "execution_count": 25,
   "metadata": {
    "scrolled": true
   },
   "outputs": [
    {
     "name": "stdout",
     "output_type": "stream",
     "text": [
      "[1, 2, 3, 4, 2021]\n"
     ]
    }
   ],
   "source": [
    "lista_append = [1,2,3,4]\n",
    "lista_append.append(2021)\n",
    "print (lista_append)"
   ]
  },
  {
   "cell_type": "markdown",
   "metadata": {},
   "source": [
    "## Função Index: \n",
    "**index() => Retorna o índice de um determinado elemento**"
   ]
  },
  {
   "cell_type": "code",
   "execution_count": 26,
   "metadata": {},
   "outputs": [
    {
     "name": "stdout",
     "output_type": "stream",
     "text": [
      "0\n",
      "1\n"
     ]
    }
   ],
   "source": [
    "lista_index = ['Victor','Milhome','Pires']\n",
    "#--Indices------ 0 ------- 1 ------ 2 ----\n",
    "indice_victor = lista_index.index('Victor')\n",
    "\n",
    "print(indice_victor)\n",
    "print(lista_index.index('Milhome'))"
   ]
  },
  {
   "cell_type": "markdown",
   "metadata": {},
   "source": [
    "**In => Indica se o elemento está ou não na lista\n",
    "Checa a existência (ou não existência) do elemento**\n"
   ]
  },
  {
   "cell_type": "code",
   "execution_count": 27,
   "metadata": {
    "scrolled": true
   },
   "outputs": [
    {
     "name": "stdout",
     "output_type": "stream",
     "text": [
      "True\n",
      "True\n",
      "False\n"
     ]
    }
   ],
   "source": [
    "print('Victor' in lista_index)\n",
    "print('Milhome' in lista_index)\n",
    "print('Python' in lista_index)"
   ]
  },
  {
   "cell_type": "markdown",
   "metadata": {},
   "source": [
    "## Função INSERT ()\n",
    "**insert() => Insere um elemento na lista em uma determinada posição**"
   ]
  },
  {
   "cell_type": "code",
   "execution_count": 28,
   "metadata": {},
   "outputs": [
    {
     "name": "stdout",
     "output_type": "stream",
     "text": [
      "['Gato', 'Furão', 'Cachorro', 'Pássaro']\n"
     ]
    }
   ],
   "source": [
    "animais = ['Gato','Cachorro','Pássaro']\n",
    "#------------0--------1---------2------\n",
    "animais.insert(1,'Furão')\n",
    "print(animais)"
   ]
  },
  {
   "cell_type": "markdown",
   "metadata": {},
   "source": [
    "## Funções Remove e Pop \n",
    "\n",
    "Remove('elemento') - Remove um determinado elemento\n",
    "Pop(índice) Remove um elemento em um determinado indice  \n",
    "**Pop interage com a lista, apenas removendo o elemento do indice enviado por parâmetro**"
   ]
  },
  {
   "cell_type": "code",
   "execution_count": 29,
   "metadata": {},
   "outputs": [
    {
     "name": "stdout",
     "output_type": "stream",
     "text": [
      "['Gato', 'Furão', 'Pássaro']\n"
     ]
    }
   ],
   "source": [
    "animais.remove('Cachorro')\n",
    "print(animais)"
   ]
  },
  {
   "cell_type": "code",
   "execution_count": 30,
   "metadata": {},
   "outputs": [
    {
     "name": "stdout",
     "output_type": "stream",
     "text": [
      "['Gato', 'Furão', 'Hamster']\n"
     ]
    }
   ],
   "source": [
    "animais = ['Gato','Furão','Cachorro','Hamster']\n",
    "animais.pop(2)\n",
    "print(animais)"
   ]
  },
  {
   "cell_type": "markdown",
   "metadata": {},
   "source": [
    "## Função: Len () => Retorna o tamanho da lista"
   ]
  },
  {
   "cell_type": "code",
   "execution_count": 31,
   "metadata": {},
   "outputs": [
    {
     "name": "stdout",
     "output_type": "stream",
     "text": [
      "10\n"
     ]
    }
   ],
   "source": [
    "lista_len = [1,2,3,4,5,6,7,8,9,0]\n",
    "print (len(lista_len))"
   ]
  },
  {
   "cell_type": "markdown",
   "metadata": {},
   "source": [
    "## Listas dentro de listas\n",
    "Podemos criar quantas listas quisermos dentro de outras listas, bantando o elemento ser também uma lista ( Utilizando as barras [] )"
   ]
  },
  {
   "cell_type": "code",
   "execution_count": 38,
   "metadata": {},
   "outputs": [
    {
     "data": {
      "text/plain": [
       "[1, 2]"
      ]
     },
     "execution_count": 38,
     "metadata": {},
     "output_type": "execute_result"
    }
   ],
   "source": [
    "lista_dentro_de_lista = [[1,2],[3,4]]\n",
    "lista_dentro_de_lista[0]"
   ]
  },
  {
   "cell_type": "code",
   "execution_count": 39,
   "metadata": {},
   "outputs": [
    {
     "data": {
      "text/plain": [
       "1"
      ]
     },
     "execution_count": 39,
     "metadata": {},
     "output_type": "execute_result"
    }
   ],
   "source": [
    "lista_dentro_de_lista[0][0]"
   ]
  },
  {
   "cell_type": "code",
   "execution_count": null,
   "metadata": {},
   "outputs": [],
   "source": []
  }
 ],
 "metadata": {
  "kernelspec": {
   "display_name": "Python 3",
   "language": "python",
   "name": "python3"
  },
  "language_info": {
   "codemirror_mode": {
    "name": "ipython",
    "version": 3
   },
   "file_extension": ".py",
   "mimetype": "text/x-python",
   "name": "python",
   "nbconvert_exporter": "python",
   "pygments_lexer": "ipython3",
   "version": "3.8.5"
  }
 },
 "nbformat": 4,
 "nbformat_minor": 4
}
