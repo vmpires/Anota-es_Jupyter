{
 "cells": [
  {
   "cell_type": "markdown",
   "metadata": {},
   "source": [
    "## Aninhando Estruturas\n",
    "Estruturas uma dentro da outra"
   ]
  },
  {
   "cell_type": "markdown",
   "metadata": {},
   "source": [
    "### Dicionários Aninhados"
   ]
  },
  {
   "cell_type": "code",
   "execution_count": 2,
   "metadata": {},
   "outputs": [
    {
     "name": "stdout",
     "output_type": "stream",
     "text": [
      "{'planta': {'numero': 1, 'nome': 'Bulbasaur', 'ataque': 'Vine Whip'}, 'fogo': {'numero': 4, 'nome': 'Charmander', 'ataque': 'Ember'}, 'agua': {'numero': 7, 'nome': 'Squirtle', 'ataque': 'Water Gun'}}\n"
     ]
    }
   ],
   "source": [
    "# Cada tipo de pokemon => Numero, nome, principal ataque\n",
    "pokemons = {\n",
    "         'planta':{\n",
    "            'numero': 1,\n",
    "            'nome': 'Bulbasaur',\n",
    "            'ataque': 'Vine Whip',\n",
    "             },\n",
    "         'fogo':{\n",
    "             'numero': 4,\n",
    "             'nome': 'Charmander',\n",
    "             'ataque': 'Ember',\n",
    "         },\n",
    "         'agua':{\n",
    "             'numero': 7,\n",
    "             'nome': 'Squirtle',\n",
    "             'ataque': 'Water Gun',\n",
    "         }\n",
    "         }\n",
    "print (pokemons)"
   ]
  },
  {
   "cell_type": "code",
   "execution_count": 3,
   "metadata": {},
   "outputs": [
    {
     "name": "stdout",
     "output_type": "stream",
     "text": [
      "planta\n",
      "fogo\n",
      "agua\n"
     ]
    }
   ],
   "source": [
    "for chave in pokemons.keys():\n",
    "    print(chave)"
   ]
  },
  {
   "cell_type": "code",
   "execution_count": 5,
   "metadata": {},
   "outputs": [
    {
     "name": "stdout",
     "output_type": "stream",
     "text": [
      "1\n",
      "Bulbasaur\n",
      "Vine Whip\n"
     ]
    }
   ],
   "source": [
    "print(pokemons['planta']['numero'])\n",
    "print(pokemons['planta']['nome'])\n",
    "print(pokemons['planta']['ataque'])"
   ]
  },
  {
   "cell_type": "markdown",
   "metadata": {},
   "source": [
    "### Listas Aninhadas"
   ]
  },
  {
   "cell_type": "code",
   "execution_count": 6,
   "metadata": {},
   "outputs": [
    {
     "name": "stdout",
     "output_type": "stream",
     "text": [
      "[[0, 1, 2, 3], [1.2, 3.4, 5.6], ['abc', 'def', 'ghi']]\n",
      "['abc', 'def', 'ghi']\n",
      "def\n"
     ]
    }
   ],
   "source": [
    "lista = [[0,1,2,3],[1.2,3.4,5.6],['abc','def','ghi']]\n",
    "print(lista)\n",
    "print(lista[2])\n",
    "print(lista[2][1])"
   ]
  },
  {
   "cell_type": "markdown",
   "metadata": {},
   "source": [
    "### Tuplas Aninhadas\n"
   ]
  },
  {
   "cell_type": "code",
   "execution_count": 7,
   "metadata": {},
   "outputs": [
    {
     "name": "stdout",
     "output_type": "stream",
     "text": [
      "((0, 1), (2.3, 4.5), ('a', 'b'), ('bylearn', 'felipe'))\n",
      "(2.3, 4.5)\n",
      "2.3\n",
      "learn\n"
     ]
    }
   ],
   "source": [
    "tuplas = ((0,1),(2.3,4.5),('a','b'),('bylearn','felipe'))\n",
    "print(tuplas)\n",
    "print(tuplas[1])\n",
    "print(tuplas[1][0])\n",
    "print(tuplas[3][0][2:])"
   ]
  },
  {
   "cell_type": "markdown",
   "metadata": {},
   "source": [
    "### 'Conjuntos Aninhados'"
   ]
  },
  {
   "cell_type": "markdown",
   "metadata": {},
   "source": [
    "Conjuntos matemáticos não são aninhados, não há conjunto dentro de outro, e sim subconjuntos"
   ]
  },
  {
   "cell_type": "code",
   "execution_count": 8,
   "metadata": {},
   "outputs": [
    {
     "ename": "TypeError",
     "evalue": "unhashable type: 'set'",
     "output_type": "error",
     "traceback": [
      "\u001b[1;31m---------------------------------------------------------------------------\u001b[0m",
      "\u001b[1;31mTypeError\u001b[0m                                 Traceback (most recent call last)",
      "\u001b[1;32m<ipython-input-8-f6f5a78e1fe4>\u001b[0m in \u001b[0;36m<module>\u001b[1;34m\u001b[0m\n\u001b[1;32m----> 1\u001b[1;33m \u001b[0mconjunto\u001b[0m \u001b[1;33m=\u001b[0m \u001b[1;33m{\u001b[0m\u001b[1;36m1\u001b[0m\u001b[1;33m,\u001b[0m\u001b[1;36m2\u001b[0m\u001b[1;33m,\u001b[0m\u001b[1;33m{\u001b[0m\u001b[1;36m3\u001b[0m\u001b[1;33m,\u001b[0m\u001b[1;36m4\u001b[0m\u001b[1;33m}\u001b[0m\u001b[1;33m,\u001b[0m\u001b[1;36m5\u001b[0m\u001b[1;33m}\u001b[0m \u001b[1;31m# Não dá para se fazer, de fato, um conjunto aninhado. Isso não está na teoria dos conjuntos\u001b[0m\u001b[1;33m\u001b[0m\u001b[1;33m\u001b[0m\u001b[0m\n\u001b[0m",
      "\u001b[1;31mTypeError\u001b[0m: unhashable type: 'set'"
     ]
    }
   ],
   "source": [
    "conjunto = {1,2,{3,4},5} # Não dá para se fazer, de fato, um conjunto aninhado. Isso não está na teoria dos conjuntos"
   ]
  },
  {
   "cell_type": "markdown",
   "metadata": {},
   "source": [
    "**Usa-se a propriedade FROZENSET para adicionar outras estruturas dentro de conjuntos**"
   ]
  },
  {
   "cell_type": "code",
   "execution_count": 9,
   "metadata": {},
   "outputs": [
    {
     "name": "stdout",
     "output_type": "stream",
     "text": [
      "{frozenset({3, 4}), frozenset({5, 6}), frozenset({1, 2})}\n",
      "<class 'frozenset'>\n",
      "<class 'frozenset'>\n",
      "<class 'frozenset'>\n"
     ]
    }
   ],
   "source": [
    "conj = set()\n",
    "conj.add(frozenset((1,2)))\n",
    "conj.add(frozenset([3,4]))\n",
    "conj.add(frozenset((5,6)))\n",
    "print(conj)\n",
    "\n",
    "for i in conj:\n",
    "    print(type(i))"
   ]
  },
  {
   "cell_type": "markdown",
   "metadata": {},
   "source": [
    "## Estruturas Aninhadas entre si"
   ]
  },
  {
   "cell_type": "code",
   "execution_count": 11,
   "metadata": {},
   "outputs": [
    {
     "name": "stdout",
     "output_type": "stream",
     "text": [
      "([1, 2, 3], {'chave': 'valor'}, {2, 3, 4}, [1, (2, 3), {'chave': (2, 3)}])\n"
     ]
    }
   ],
   "source": [
    "z = ([1,2,3],{'chave':'valor'},{2,3,4},[1,(2,3),{'chave':(2,3)}])\n",
    "print(z)"
   ]
  }
 ],
 "metadata": {
  "kernelspec": {
   "display_name": "Python 3",
   "language": "python",
   "name": "python3"
  },
  "language_info": {
   "codemirror_mode": {
    "name": "ipython",
    "version": 3
   },
   "file_extension": ".py",
   "mimetype": "text/x-python",
   "name": "python",
   "nbconvert_exporter": "python",
   "pygments_lexer": "ipython3",
   "version": "3.8.5"
  }
 },
 "nbformat": 4,
 "nbformat_minor": 4
}
