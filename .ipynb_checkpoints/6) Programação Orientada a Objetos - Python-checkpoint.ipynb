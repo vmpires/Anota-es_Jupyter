{
 "cells": [
  {
   "cell_type": "markdown",
   "metadata": {},
   "source": [
    "# Orientação a Objetos em Python"
   ]
  },
  {
   "cell_type": "markdown",
   "metadata": {},
   "source": [
    "## Classes\n",
    "Uma classe define uma estrutura de dados que conecta instâncias de atributos, instâncias de métodos e classes aninhadas.  \n",
    "Classes são estruturas de dados que possuem Atributos e Métodos para virem a ser implementadas por futuros objetos.  \n",
    "Classes, então, são representações computacionais de algo que queremos introduzir no nosso código."
   ]
  },
  {
   "cell_type": "code",
   "execution_count": 1,
   "metadata": {},
   "outputs": [],
   "source": [
    "# Classe Carro:\n",
    "    # Modelo\n",
    "    # Ano\n",
    "    # Estado\n",
    "    \n",
    "    # liga_desliga()\n",
    "    # acelerar()\n",
    "    # test_drive()\n",
    "    # comprar()\n",
    "  \n",
    "    \n",
    "# Modelo, Ano e Estado => São Atributos\n",
    "# Ligar e Desligar, Acelerar, Fazer Test Drive e Comprar => São Métodos"
   ]
  },
  {
   "cell_type": "markdown",
   "metadata": {},
   "source": [
    "## Objetos\n",
    "Um objeto em linguagem de programação representa a posição onde será armazenada uma instancia daquela classe.  \n",
    "Objetos são instâncias (versões/criações/representação) da classe (o que o objeto tenta representar). \n",
    "Todo objeto possui um tipo.  "
   ]
  },
  {
   "cell_type": "code",
   "execution_count": 3,
   "metadata": {},
   "outputs": [],
   "source": [
    "# carro_ferrari \n",
    "   # Modelo  -> Ferrari\n",
    "   # Ano     -> 2019\n",
    "   # Estado  -> Novo\n",
    "    \n",
    "   # liga_desliga() -> Método para ligar e desligar o carro\n",
    "   # acelerar() -> Método para acelerar\n",
    "   # test_drive() -> Método para testar o carro\n",
    "   # comprar() -> Método para comprar o carro\n",
    "    \n",
    "# carro_bmw\n",
    "   # Modelo -> BMW\n",
    "   # Ano    -> 2016\n",
    "   # Estado -> Semi-Novo\n",
    "    \n",
    "   # liga_desliga() -> Método para ligar e desligar o carro\n",
    "   # acelerar() -> Método para acelerar\n",
    "   # test_drive() -> Método para testar o carro\n",
    "   # comprar() -> Método para comprar o carro"
   ]
  },
  {
   "cell_type": "markdown",
   "metadata": {},
   "source": [
    "## Exemplo:"
   ]
  },
  {
   "cell_type": "code",
   "execution_count": 4,
   "metadata": {},
   "outputs": [
    {
     "name": "stdout",
     "output_type": "stream",
     "text": [
      "O valor do estado do fusca é novo\n",
      "O valor do estado da ferrari é usado\n",
      "O tipo do fusca é <class '__main__.Carro'>\n",
      "O tipo da ferrari é <class '__main__.Carro'>\n",
      "O tipo do atributo 'estado' do fusca é <class 'str'>\n",
      "O tipo do atributo 'estado' da ferrari é <class 'str'>\n"
     ]
    }
   ],
   "source": [
    "class Carro(object):\n",
    "    estado = 'novo'\n",
    "    \n",
    "fusca = Carro() # Objeto\n",
    "fusca.estado = 'novo' # Atributo\n",
    "\n",
    "ferrari = Carro() # Objeto\n",
    "ferrari.estado = 'usado' # Atributo\n",
    "\n",
    "print('O valor do estado do fusca é',fusca.estado) # Valor do Atributo\n",
    "print('O valor do estado da ferrari é',ferrari.estado) # Valor do Atributo\n",
    "print('O tipo do fusca é',type(fusca)) # Tipo do Objeto\n",
    "print('O tipo da ferrari é',type(ferrari)) # Tipo do Objeto\n",
    "print('O tipo do atributo \\'estado\\' do fusca é',type(fusca.estado)) # Tipo do Atributo\n",
    "print('O tipo do atributo \\'estado\\' da ferrari é',type(ferrari.estado)) # Tipo do Atributo"
   ]
  },
  {
   "cell_type": "markdown",
   "metadata": {},
   "source": [
    "## Orientação a objeto\n",
    "\n",
    "Um objeto em linguagem de programação abstrata representa a posição onde será armazenada uma instancia (versão) daquela classe (o que o objeto representa). Os objetos em Python apresentam os seguintes atributos:\n",
    "\n",
    "* Tipo: O tipo de um objeto determina os valores que o objeto pode receber e as operações que podem ser executadas nesse objeto.\n",
    "\n",
    "* Valor: O valor de um objeto é o índice de memória ocupada por essa variável. Como os índices das posições da memória são interpretados, isto é determinado pelo tipo da variável.\n",
    "\n",
    "* Tempo de vida: A vida de um objeto é o intervalo de tempo de execução de um programa em Python, é durante este tempo que o objeto existe.\n",
    "\n",
    "Python define uma extensa hierarquia de tipos. Esta hierarquia inclui os tipos numéricos (tais como int, float e complex), seqüências (tais como a tupla e a lista), funções (tipo função), classes e métodos (tipos classobj e instancemethod), e as instâncias da classe (tipo instance). \n",
    "\n",
    "## Classes\n",
    "\n",
    "Uma classe define uma estrutura de dados que contenha instância de atributos, instância de métodos e classes aninhadas. Em Python a classe de um objeto e o tipo de um objeto são sinônimos. Cada objeto do Python tem uma classe (tipo) que é derivada diretamente ou indiretamente da classe interna do objeto do Python. A classe (tipo) de um objeto determina o que é e como pode ser manipulado. Uma classe encapsula dados, operações e semântica.\n",
    "\n",
    "A classe é o que faz com que Python seja uma linguagem de programação orientada a objetos. Classe é definida como um agrupamento de valores sua gama de operações. As classes facilitam a modularidade e abstração de complexidade. O usuário de uma classe manipula objetos instanciados dessa classe somente com os métodos fornecidos por essa classe.\n",
    "\n",
    "Frequentemente classes diferentes possuem características comuns. As classes diferentes podem compartilhar valores comuns e podem executar as mesmas operações. Em Python tais relacionamentos são expressados usando derivação e herança. \n",
    "\n",
    "### Instâncias, Instância de Atributos e Métodos\n",
    "\n",
    "Objetos são instanciados pelas classes. Cada instância (objeto) em uma programa Python tem seu próprio namespace.\n",
    "\n",
    "Um classe criada é chamada de classe objeto (tipo classobj). Os nomes no namespace da classe objeto são chamados de atributos da classe. Funções definidas dentro de uma classe são chamadas de métodos.\n",
    "\n",
    "Quando um objeto é criado, o namespace herda todos os nomes do namespace da classe onde o objeto está. O nome em um namespace de instância é chamado de atributo de instância.\n",
    "\n",
    "Um método é uma função criada na definição de uma classe. O primeiro argumento do método é sempre referenciado no início do processo. Por convenção, o primeiro argumento do método tem sempre o nome self. Portanto, os atributos de self são atributos de instância da classe. "
   ]
  },
  {
   "cell_type": "markdown",
   "metadata": {},
   "source": [
    "## Self\n",
    "Para editarmos uma propriedade apenas do objeto que chama um método usamos a palavra reservada 'self'. \n",
    "\n",
    "Portanto todo método deve o parâmetro 'self' e esse ser o primeiro"
   ]
  },
  {
   "cell_type": "code",
   "execution_count": 5,
   "metadata": {},
   "outputs": [
    {
     "name": "stdout",
     "output_type": "stream",
     "text": [
      "usado\n",
      "novo\n"
     ]
    }
   ],
   "source": [
    "class Carro(object):\n",
    "    estado = 'novo'\n",
    "    \n",
    "    def dirigir(self):\n",
    "        self.estado = 'usado' # Modifica apenas no objeto que chamar o método\n",
    "\n",
    "# Exemplo 1\n",
    "bmw = Carro() # Criou com o estado novo\n",
    "bmw.dirigir() # Modifiquei o estado para usado\n",
    "print(bmw.estado) # Passa a ser usado\n",
    "\n",
    "# Exemplo\n",
    "ferrari = Carro() # Criou com o estado novo\n",
    "print(ferrari.estado) # Continua como novo"
   ]
  },
  {
   "cell_type": "markdown",
   "metadata": {},
   "source": [
    "## Diferenciando atributos da classe com atribudos da instância"
   ]
  },
  {
   "cell_type": "code",
   "execution_count": 6,
   "metadata": {},
   "outputs": [
    {
     "name": "stdout",
     "output_type": "stream",
     "text": [
      "1: novo\n",
      "1: semi-novo\n",
      "2: novo\n",
      "Carro: novo\n",
      "Carro: quebrado\n",
      "1: semi-novo\n",
      "2: quebrado\n",
      "3: quebrado\n"
     ]
    }
   ],
   "source": [
    "class Carro(object):\n",
    "    estado = 'novo'\n",
    "    \n",
    "carro1 = Carro()\n",
    "print('1:',carro1.estado)\n",
    "carro1.estado = 'semi-novo' # Neste momento criamos um atributo de INSTÂNCIA\n",
    "\n",
    "carro2 = Carro()\n",
    "\n",
    "print('1:',carro1.estado)\n",
    "print('2:',carro2.estado)\n",
    "\n",
    "print('Carro:',Carro.estado)\n",
    "Carro.estado = 'quebrado'\n",
    "print('Carro:',Carro.estado)\n",
    "\n",
    "carro3 = Carro()\n",
    "\n",
    "print('1:',carro1.estado) # Carro 1 possui um atributo de INSTÂNCIA\n",
    "print('2:',carro2.estado) # Carro 2 possui um atributo de CLASSE\n",
    "print('3:',carro3.estado) # Carro 3 possui um atributo de CLASSE"
   ]
  },
  {
   "cell_type": "markdown",
   "metadata": {},
   "source": [
    "## Construtor de classe (__init__)\n",
    "O constutor de calsse no Python é chamado de __init__ e ele é usado para criar uma nova instância do objeto.  \n",
    "Caso usarmos algum parâmetro no construtor, torna-se obrigatório o envio desse parâmetro na hora da criação do objeto.  \n",
    "Com isso, podemos criar valores padrões para nossos objetos.  "
   ]
  },
  {
   "cell_type": "code",
   "execution_count": 7,
   "metadata": {},
   "outputs": [
    {
     "name": "stdout",
     "output_type": "stream",
     "text": [
      "A BMW tem o estado: semi-novo\n",
      "A Ferrari tem o estado: novo\n",
      "O Fusca tem o estado: usado\n"
     ]
    }
   ],
   "source": [
    "# Criar + Modifica  => Cada um já tem seu próprio estado inicial\n",
    "\n",
    "class Carro(object):\n",
    "    def __init__(self, parametro_estado): # Constutor\n",
    "        self.estado = parametro_estado\n",
    "        \n",
    "bmw = Carro('semi-novo')\n",
    "ferrari = Carro('novo')\n",
    "fusca = Carro('usado')\n",
    "\n",
    "print(\"A BMW tem o estado:\",bmw.estado)\n",
    "print(\"A Ferrari tem o estado:\",ferrari.estado)\n",
    "print(\"O Fusca tem o estado:\",fusca.estado)"
   ]
  }
 ],
 "metadata": {
  "kernelspec": {
   "display_name": "Python 3",
   "language": "python",
   "name": "python3"
  },
  "language_info": {
   "codemirror_mode": {
    "name": "ipython",
    "version": 3
   },
   "file_extension": ".py",
   "mimetype": "text/x-python",
   "name": "python",
   "nbconvert_exporter": "python",
   "pygments_lexer": "ipython3",
   "version": "3.8.5"
  }
 },
 "nbformat": 4,
 "nbformat_minor": 4
}
