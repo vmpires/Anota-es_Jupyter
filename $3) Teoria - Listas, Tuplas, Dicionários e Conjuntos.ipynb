{
 "cells": [
  {
   "cell_type": "markdown",
   "metadata": {},
   "source": [
    "# Tuplas, Dicionários, Conjuntos e Listas"
   ]
  },
  {
   "cell_type": "markdown",
   "metadata": {},
   "source": [
    "### Listas\n",
    "* Pode-se aumentar e diminuir o tamanho\n",
    "* Pode-se modificar o valor de um elemento\n",
    "* É a mais popular dos 4\n",
    "* É inicializável com []"
   ]
  },
  {
   "cell_type": "code",
   "execution_count": null,
   "metadata": {},
   "outputs": [],
   "source": [
    "lista = []\n",
    "lista = [0,1,2]\n",
    "lista = [i for i in range(3)]"
   ]
  },
  {
   "cell_type": "markdown",
   "metadata": {},
   "source": [
    "### Tuplas\n",
    "* É totalmente imutável (não permite alterações)\n",
    "* **Útil para dados fixos**\n",
    "* Muito mais rápida do que uma lista\n",
    "* É inicializável com ()"
   ]
  },
  {
   "cell_type": "code",
   "execution_count": 3,
   "metadata": {},
   "outputs": [],
   "source": [
    "tupla = ()\n",
    "tupla = (0,1,2)"
   ]
  },
  {
   "cell_type": "code",
   "execution_count": 4,
   "metadata": {},
   "outputs": [
    {
     "ename": "AttributeError",
     "evalue": "'tuple' object has no attribute 'append'",
     "output_type": "error",
     "traceback": [
      "\u001b[1;31m---------------------------------------------------------------------------\u001b[0m",
      "\u001b[1;31mAttributeError\u001b[0m                            Traceback (most recent call last)",
      "\u001b[1;32m<ipython-input-4-45b4d5b54522>\u001b[0m in \u001b[0;36m<module>\u001b[1;34m\u001b[0m\n\u001b[1;32m----> 1\u001b[1;33m \u001b[0mtupla\u001b[0m\u001b[1;33m.\u001b[0m\u001b[0mappend\u001b[0m\u001b[1;33m(\u001b[0m\u001b[1;36m4\u001b[0m\u001b[1;33m)\u001b[0m \u001b[1;31m# Tupla não permite adicionar novos elementos\u001b[0m\u001b[1;33m\u001b[0m\u001b[1;33m\u001b[0m\u001b[0m\n\u001b[0m",
      "\u001b[1;31mAttributeError\u001b[0m: 'tuple' object has no attribute 'append'"
     ]
    }
   ],
   "source": [
    "tupla.append(4) # Tupla não permite adicionar novos elementos"
   ]
  },
  {
   "cell_type": "code",
   "execution_count": 5,
   "metadata": {},
   "outputs": [
    {
     "ename": "TypeError",
     "evalue": "'tuple' object does not support item assignment",
     "output_type": "error",
     "traceback": [
      "\u001b[1;31m---------------------------------------------------------------------------\u001b[0m",
      "\u001b[1;31mTypeError\u001b[0m                                 Traceback (most recent call last)",
      "\u001b[1;32m<ipython-input-5-e2db72385e60>\u001b[0m in \u001b[0;36m<module>\u001b[1;34m\u001b[0m\n\u001b[1;32m----> 1\u001b[1;33m \u001b[0mtupla\u001b[0m\u001b[1;33m[\u001b[0m\u001b[1;36m0\u001b[0m\u001b[1;33m]\u001b[0m \u001b[1;33m=\u001b[0m \u001b[1;36m4\u001b[0m \u001b[1;31m# Tupla não permite modificar os elementos existentes\u001b[0m\u001b[1;33m\u001b[0m\u001b[1;33m\u001b[0m\u001b[0m\n\u001b[0m",
      "\u001b[1;31mTypeError\u001b[0m: 'tuple' object does not support item assignment"
     ]
    }
   ],
   "source": [
    "tupla[0] = 4 # Tupla não permite modificar os elementos existentes"
   ]
  },
  {
   "cell_type": "code",
   "execution_count": 6,
   "metadata": {},
   "outputs": [
    {
     "ename": "AttributeError",
     "evalue": "'tuple' object has no attribute 'remove'",
     "output_type": "error",
     "traceback": [
      "\u001b[1;31m---------------------------------------------------------------------------\u001b[0m",
      "\u001b[1;31mAttributeError\u001b[0m                            Traceback (most recent call last)",
      "\u001b[1;32m<ipython-input-6-acce71a0cf9c>\u001b[0m in \u001b[0;36m<module>\u001b[1;34m\u001b[0m\n\u001b[1;32m----> 1\u001b[1;33m \u001b[0mtupla\u001b[0m\u001b[1;33m.\u001b[0m\u001b[0mremove\u001b[0m\u001b[1;33m(\u001b[0m\u001b[1;36m1\u001b[0m\u001b[1;33m)\u001b[0m \u001b[1;31m# Tupla não permite remover elementos\u001b[0m\u001b[1;33m\u001b[0m\u001b[1;33m\u001b[0m\u001b[0m\n\u001b[0m",
      "\u001b[1;31mAttributeError\u001b[0m: 'tuple' object has no attribute 'remove'"
     ]
    }
   ],
   "source": [
    "tupla.remove(1) # Tupla não permite remover elementos"
   ]
  },
  {
   "cell_type": "markdown",
   "metadata": {},
   "source": [
    "**Conclusão:** Tuplas são imutáveis "
   ]
  },
  {
   "cell_type": "markdown",
   "metadata": {},
   "source": [
    "Para criarmos ou convertermos um objeto para uma tupla podemos usar a função tuple()"
   ]
  },
  {
   "cell_type": "code",
   "execution_count": 7,
   "metadata": {},
   "outputs": [
    {
     "name": "stdout",
     "output_type": "stream",
     "text": [
      "<class 'list'>\n",
      "<class 'tuple'>\n"
     ]
    }
   ],
   "source": [
    "lista = [1,2,3]\n",
    "tupla = tuple(lista)\n",
    "print(type(lista))\n",
    "print(type(tupla))"
   ]
  },
  {
   "cell_type": "markdown",
   "metadata": {},
   "source": [
    "Pode-se tranformar uma lista em tupla e vice-versa, dessa forma, podemos editar seus valores"
   ]
  },
  {
   "cell_type": "code",
   "execution_count": 8,
   "metadata": {},
   "outputs": [
    {
     "name": "stdout",
     "output_type": "stream",
     "text": [
      "(1, 2, 'Teste', 5, 6)\n"
     ]
    }
   ],
   "source": [
    "tupla = (1,2,3,4,5)\n",
    "lista = list(tupla)\n",
    "lista.append(6)\n",
    "lista[2] = 'Teste'\n",
    "lista.remove(4)\n",
    "tupla = tuple(lista)\n",
    "print(tupla)"
   ]
  },
  {
   "cell_type": "markdown",
   "metadata": {},
   "source": [
    "**Operações Gerais para Estruturas de Dados Tuplas, Dicionários, Conjuntos e Listas:**"
   ]
  },
  {
   "cell_type": "code",
   "execution_count": 10,
   "metadata": {},
   "outputs": [
    {
     "name": "stdout",
     "output_type": "stream",
     "text": [
      "1\n",
      "(2, 3, 4)\n",
      "5\n",
      "5\n",
      "True\n",
      "False\n"
     ]
    }
   ],
   "source": [
    "tupla = (1,2,3,4,5)\n",
    "print(tupla[0])\n",
    "print(tupla[1:4])\n",
    "print(tupla[-1])\n",
    "print(len(tupla))\n",
    "print(3 in tupla) # True\n",
    "print(4 not in tupla) #False\n"
   ]
  },
  {
   "cell_type": "markdown",
   "metadata": {},
   "source": [
    "## Conjuntos (sets)\n",
    "**Vem da teoria dos conjuntos matemáticos, tendo todas as operações eles possuem**\n",
    "* Não é ordenado\n",
    "* Não aceita valores duplicados\n",
    "* Possui operação dos Conjuntos Matemáticos\n",
    "* É inicializável com {}"
   ]
  },
  {
   "cell_type": "code",
   "execution_count": 11,
   "metadata": {
    "scrolled": true
   },
   "outputs": [
    {
     "name": "stdout",
     "output_type": "stream",
     "text": [
      "{'teste'}\n",
      "<class 'set'>\n",
      "<class 'set'>\n"
     ]
    }
   ],
   "source": [
    "conjunto = {'teste'}\n",
    "print(conjunto)\n",
    "print(type(conjunto))\n",
    "print(type({1}))"
   ]
  },
  {
   "cell_type": "code",
   "execution_count": 12,
   "metadata": {
    "scrolled": true
   },
   "outputs": [
    {
     "name": "stdout",
     "output_type": "stream",
     "text": [
      "{1, 2, 3, 4}\n"
     ]
    }
   ],
   "source": [
    "conjunto = {1,2,3,1,4,3}\n",
    "print(conjunto) # Não aceitam duplicatas"
   ]
  },
  {
   "cell_type": "code",
   "execution_count": 13,
   "metadata": {},
   "outputs": [
    {
     "name": "stdout",
     "output_type": "stream",
     "text": [
      "{'d', 'c', 'a', 'f', 'b'}\n",
      "{'n', 'c', 'j', 'g', 'm', 'd'}\n"
     ]
    }
   ],
   "source": [
    "conjunto1 = {'a','b','c','d'}\n",
    "conjunto2 = {'j', 'm', 'n', 'c', 'd'}\n",
    "conjunto1.add('f') # Add => Adição => Operação dos Conjuntos Matemáticos\n",
    "conjunto2.add('g')\n",
    "print(conjunto1) # Não são ordenados\n",
    "print(conjunto2) # Não são ordenados"
   ]
  },
  {
   "cell_type": "markdown",
   "metadata": {},
   "source": [
    "### **Operações com um só conjunto por vez**  \n",
    "### **ADD:** Adiciona apenas um item"
   ]
  },
  {
   "cell_type": "code",
   "execution_count": 14,
   "metadata": {},
   "outputs": [
    {
     "name": "stdout",
     "output_type": "stream",
     "text": [
      "{'maçã', 'uva'}\n",
      "{'maçã', 'uva', 'laranja'}\n"
     ]
    }
   ],
   "source": [
    "frutas = {'maçã','uva'}\n",
    "print(frutas)\n",
    "frutas.add('laranja')\n",
    "print(frutas)"
   ]
  },
  {
   "cell_type": "markdown",
   "metadata": {},
   "source": [
    "### **Update:** Adiciona mais de um item por vez"
   ]
  },
  {
   "cell_type": "code",
   "execution_count": 15,
   "metadata": {},
   "outputs": [
    {
     "name": "stdout",
     "output_type": "stream",
     "text": [
      "{'abacaxi', 'pera', 'melancia', 'maçã', 'morango', 'uva'}\n"
     ]
    }
   ],
   "source": [
    "frutas = {'maçã','uva'}\n",
    "frutas.update(['pera','abacaxi','melancia','morango'])\n",
    "print(frutas)"
   ]
  },
  {
   "cell_type": "markdown",
   "metadata": {},
   "source": [
    "### **Remove:** Remove, mas dá erro se o valor não existir  \n",
    "### **Discard:** Remove e não da erro se o valor não existir"
   ]
  },
  {
   "cell_type": "code",
   "execution_count": 19,
   "metadata": {},
   "outputs": [
    {
     "ename": "KeyError",
     "evalue": "'maçã'",
     "output_type": "error",
     "traceback": [
      "\u001b[1;31m---------------------------------------------------------------------------\u001b[0m",
      "\u001b[1;31mKeyError\u001b[0m                                  Traceback (most recent call last)",
      "\u001b[1;32m<ipython-input-19-dfc59dcd9e33>\u001b[0m in \u001b[0;36m<module>\u001b[1;34m\u001b[0m\n\u001b[0;32m      1\u001b[0m \u001b[0mfrutas\u001b[0m \u001b[1;33m=\u001b[0m \u001b[1;33m{\u001b[0m\u001b[1;34m'uva'\u001b[0m\u001b[1;33m,\u001b[0m\u001b[1;34m'pera'\u001b[0m\u001b[1;33m,\u001b[0m\u001b[1;34m'laranja'\u001b[0m\u001b[1;33m}\u001b[0m\u001b[1;33m\u001b[0m\u001b[1;33m\u001b[0m\u001b[0m\n\u001b[1;32m----> 2\u001b[1;33m \u001b[0mfrutas\u001b[0m\u001b[1;33m.\u001b[0m\u001b[0mremove\u001b[0m\u001b[1;33m(\u001b[0m\u001b[1;34m'maçã'\u001b[0m\u001b[1;33m)\u001b[0m \u001b[1;31m# Remove dá erro se o valor já não existe\u001b[0m\u001b[1;33m\u001b[0m\u001b[1;33m\u001b[0m\u001b[0m\n\u001b[0m",
      "\u001b[1;31mKeyError\u001b[0m: 'maçã'"
     ]
    }
   ],
   "source": [
    "frutas = {'uva','pera','laranja'}\n",
    "frutas.remove('maçã') # Remove dá erro se o valor já não existe"
   ]
  },
  {
   "cell_type": "code",
   "execution_count": 20,
   "metadata": {},
   "outputs": [
    {
     "name": "stdout",
     "output_type": "stream",
     "text": [
      "{'laranja', 'uva', 'pera'}\n"
     ]
    }
   ],
   "source": [
    "frutas.discard(\"maçã\") # Não dá erro se o valor não existir\n",
    "print(frutas)"
   ]
  },
  {
   "cell_type": "markdown",
   "metadata": {},
   "source": [
    "### **Clear:** Remove todos os itens"
   ]
  },
  {
   "cell_type": "code",
   "execution_count": 21,
   "metadata": {},
   "outputs": [
    {
     "name": "stdout",
     "output_type": "stream",
     "text": [
      "set()\n"
     ]
    }
   ],
   "source": [
    "frutas.clear()\n",
    "print(frutas)"
   ]
  },
  {
   "cell_type": "markdown",
   "metadata": {},
   "source": [
    "**Operações com um mais de um conjunto por vez**  \n",
    "**Union:** Faz a união (soma) de dois conjuntos, retornando um novo conjunto  \n",
    "**Update:** Também une dois conjuntos, porém, modifica direto no próprio conjunto que chamar esse método"
   ]
  },
  {
   "cell_type": "code",
   "execution_count": 22,
   "metadata": {},
   "outputs": [
    {
     "name": "stdout",
     "output_type": "stream",
     "text": [
      "{'d', 'n', 'c', 'a', 'j', 'm', 'b'}\n"
     ]
    }
   ],
   "source": [
    "conjunto1 = {'a','b','c','d'}\n",
    "conjunto2 = {'j', 'm', 'n', 'c', 'd'}\n",
    "\n",
    "conjunto_total = conjunto1.union(conjunto2) # Union me retorna um valor (conjunto)\n",
    "print(conjunto_total)"
   ]
  },
  {
   "cell_type": "code",
   "execution_count": 23,
   "metadata": {},
   "outputs": [
    {
     "name": "stdout",
     "output_type": "stream",
     "text": [
      "{'d', 'n', 'c', 'a', 'j', 'm', 'b'}\n"
     ]
    }
   ],
   "source": [
    "conjunto1 = {'a','b','c','d'}\n",
    "conjunto2 = {'j', 'm', 'n', 'c', 'd'}\n",
    "\n",
    "conjunto1.update(conjunto2) # Update modifica o meu conjunto\n",
    "print(conjunto1)"
   ]
  },
  {
   "cell_type": "markdown",
   "metadata": {},
   "source": [
    "**Intersection:** Me mostra a intersecção entre um e outro  \n",
    "**Difference:** Me mostra a diferença entre o primeiro e segundo"
   ]
  },
  {
   "cell_type": "code",
   "execution_count": 24,
   "metadata": {},
   "outputs": [
    {
     "name": "stdout",
     "output_type": "stream",
     "text": [
      "{'d', 'c'}\n"
     ]
    }
   ],
   "source": [
    "conjunto1 = {'a','b','c','d'}\n",
    "conjunto2 = {'j', 'm', 'n', 'c', 'd'}\n",
    "\n",
    "interseccao = conjunto1.intersection(conjunto2)\n",
    "\n",
    "print(interseccao)"
   ]
  },
  {
   "cell_type": "code",
   "execution_count": 25,
   "metadata": {},
   "outputs": [
    {
     "name": "stdout",
     "output_type": "stream",
     "text": [
      "{'a', 'b'}\n",
      "{'n', 'm', 'j'}\n"
     ]
    }
   ],
   "source": [
    "conjunto1 = {'a','b','c','d'}\n",
    "conjunto2 = {'j', 'm', 'n', 'c', 'd'}\n",
    "\n",
    "diferenca = conjunto1.difference(conjunto2)\n",
    "diferenca2 = conjunto2.difference(conjunto1)\n",
    "\n",
    "print(diferenca)\n",
    "print(diferenca2)"
   ]
  },
  {
   "cell_type": "markdown",
   "metadata": {},
   "source": [
    "**Issubset:** Se o primeiro é um subconjunto do segundo"
   ]
  },
  {
   "cell_type": "code",
   "execution_count": 26,
   "metadata": {},
   "outputs": [
    {
     "name": "stdout",
     "output_type": "stream",
     "text": [
      "True\n"
     ]
    }
   ],
   "source": [
    "conjuntinho = {1,2,3}\n",
    "conjuntao = {1,2,3,4,5,6}\n",
    "\n",
    "subconjunto = conjuntinho.issubset(conjuntao)\n",
    "print(subconjunto)"
   ]
  },
  {
   "cell_type": "markdown",
   "metadata": {},
   "source": [
    "**Set():** Converte para Conjunto  \n",
    "## **Método Construtor:** É o método que cria uma instancia (objeto) daquela classe\n"
   ]
  },
  {
   "cell_type": "code",
   "execution_count": 29,
   "metadata": {},
   "outputs": [
    {
     "name": "stdout",
     "output_type": "stream",
     "text": [
      "<class 'set'>\n",
      "<class 'tuple'>\n",
      "<class 'list'>\n"
     ]
    }
   ],
   "source": [
    "set() # Construtor da classe set \n",
    "tuple() # Construtor da classe tupla\n",
    "list() # Consrtutor da classe lista\n",
    "print(set)\n",
    "print(tuple)\n",
    "print(list)"
   ]
  },
  {
   "cell_type": "code",
   "execution_count": 33,
   "metadata": {},
   "outputs": [
    {
     "name": "stdout",
     "output_type": "stream",
     "text": [
      "{1, 2, 3, 4, 5}\n",
      "{'d', 'c', 'a', 'e', 'f', 'b'}\n"
     ]
    }
   ],
   "source": [
    "lista = [1,2,3,4,5]\n",
    "tupla = ('a','b','c','d','e','f')\n",
    "conjunto1 = set(lista)\n",
    "conjunto2 = set(tupla)\n",
    "\n",
    "print(conjunto1)\n",
    "print(conjunto2)"
   ]
  },
  {
   "cell_type": "markdown",
   "metadata": {},
   "source": [
    "## Dicionários\n",
    "* Possuem chave e valor\n",
    "* São mutáveis\n",
    "* Não aceitam chaves duplicadas\n",
    "* É inicializável com {'chave':'valor'}\n",
    "\n",
    "**Procura => Resposta**\n",
    "\n",
    "**chave => valor**\n",
    "\n",
    "**cat => gato**\n",
    "\n",
    "**dog => cachorro**\n",
    "\n",
    "**apple => maça**\n",
    "\n",
    "**while => enquanto**\n",
    "\n",
    "**É composto por chaves e valores**"
   ]
  },
  {
   "cell_type": "code",
   "execution_count": null,
   "metadata": {},
   "outputs": [],
   "source": [
    "dicionario = {'chave':'valor','chave2':'valor2'}"
   ]
  },
  {
   "cell_type": "code",
   "execution_count": 36,
   "metadata": {},
   "outputs": [
    {
     "name": "stdout",
     "output_type": "stream",
     "text": [
      "{'dog': 'cachorro', 'cat': 'gato'}\n",
      "<class 'dict'>\n",
      "<class 'dict'>\n"
     ]
    }
   ],
   "source": [
    "dict = {'dog':'cachorro', # Não aceita repetições de chaves\n",
    "        'cat':'gato',\n",
    "        'dog':'cachorro'\n",
    "       }\n",
    "\n",
    "print(dict)\n",
    "print(type(dict))\n",
    "print(type({'dog':'cachorro'}))"
   ]
  },
  {
   "cell_type": "markdown",
   "metadata": {},
   "source": [
    "**dicionario['chave']:** Procura pela chave e retorna o valor. Dá erro se não existir a chave  \n",
    "**dicionario.get('chave'):** Procura pela chave e retorna o valor. Não dá erro se não existir a chave"
   ]
  },
  {
   "cell_type": "code",
   "execution_count": 37,
   "metadata": {},
   "outputs": [
    {
     "data": {
      "text/plain": [
       "'cachorro'"
      ]
     },
     "execution_count": 37,
     "metadata": {},
     "output_type": "execute_result"
    }
   ],
   "source": [
    "dict['dog'] # Não é acessível por índices, mas sim, por chaves"
   ]
  },
  {
   "cell_type": "code",
   "execution_count": 39,
   "metadata": {},
   "outputs": [
    {
     "data": {
      "text/plain": [
       "'gato'"
      ]
     },
     "execution_count": 39,
     "metadata": {},
     "output_type": "execute_result"
    }
   ],
   "source": [
    "dict.get('cat')"
   ]
  },
  {
   "cell_type": "markdown",
   "metadata": {},
   "source": [
    "**Dicionários são mutáveis (alteráveis)**"
   ]
  },
  {
   "cell_type": "code",
   "execution_count": 40,
   "metadata": {},
   "outputs": [
    {
     "name": "stdout",
     "output_type": "stream",
     "text": [
      "{'dog': 'cachoro', 'cat': 'gato', 'bird': 'ave'}\n"
     ]
    }
   ],
   "source": [
    "dict = {'dog':'cachoro', # Não aceita repetições de chaves\n",
    "        'cat':'gato',\n",
    "        'bird':'ave' # Sobreescreve o valor atual da chave\n",
    "       }\n",
    "print(dict)"
   ]
  },
  {
   "cell_type": "markdown",
   "metadata": {},
   "source": [
    "## Realizando loop nos dicionários\n",
    "#### Com um 'for' é possível imprimir tanto as chaves quanto os valores do dict"
   ]
  },
  {
   "cell_type": "code",
   "execution_count": 41,
   "metadata": {},
   "outputs": [
    {
     "name": "stdout",
     "output_type": "stream",
     "text": [
      "dog\n",
      "cat\n",
      "bird\n",
      "-------------------------\n",
      "cachoro\n",
      "gato\n",
      "ave\n"
     ]
    }
   ],
   "source": [
    "dict = {'dog':'cachoro', # Não aceita repetições de chaves\n",
    "        'cat':'gato',\n",
    "        'bird':'ave' # Sobreescreve o valor atual da chave\n",
    "       }\n",
    "\n",
    "for chaves in dict: # Me retorna as chaves\n",
    "    print(chaves)\n",
    "\n",
    "print('-'*25)\n",
    "    \n",
    "for chave in dict:\n",
    "    print(dict[chave]) # Me retorna os valores das chaves"
   ]
  },
  {
   "cell_type": "code",
   "execution_count": 43,
   "metadata": {},
   "outputs": [
    {
     "name": "stdout",
     "output_type": "stream",
     "text": [
      "cachoro\n",
      "gato\n",
      "ave\n"
     ]
    }
   ],
   "source": [
    "for valor in dict.values():\n",
    "    print(valor)"
   ]
  },
  {
   "cell_type": "code",
   "execution_count": 44,
   "metadata": {},
   "outputs": [
    {
     "name": "stdout",
     "output_type": "stream",
     "text": [
      "dog\n",
      "cat\n",
      "bird\n"
     ]
    }
   ],
   "source": [
    "for chave in dict.keys():\n",
    "    print(chave)"
   ]
  },
  {
   "cell_type": "markdown",
   "metadata": {},
   "source": [
    "### É possível imprimir apenas as chaves, apenas os valores e também todos os itens do dict"
   ]
  },
  {
   "cell_type": "code",
   "execution_count": 42,
   "metadata": {},
   "outputs": [
    {
     "name": "stdout",
     "output_type": "stream",
     "text": [
      "Todas as chaves: dict_keys(['dog', 'cat', 'bird'])\n",
      "Todos os valores: dict_values(['cachoro', 'gato', 'ave'])\n",
      "Todos os itens: dict_items([('dog', 'cachoro'), ('cat', 'gato'), ('bird', 'ave')])\n"
     ]
    }
   ],
   "source": [
    "# chaves => keys()\n",
    "# valores => values()\n",
    "# itens => items()\n",
    "\n",
    "print(\"Todas as chaves:\",dict.keys())\n",
    "print(\"Todos os valores:\",dict.values())\n",
    "print(\"Todos os itens:\",dict.items())"
   ]
  },
  {
   "cell_type": "code",
   "execution_count": 45,
   "metadata": {},
   "outputs": [
    {
     "name": "stdout",
     "output_type": "stream",
     "text": [
      "A chave é dog e o valor é cachoro\n",
      "O tipo da chave é <class 'str'> e o tip do valor é <class 'str'>\n",
      "A chave é cat e o valor é gato\n",
      "O tipo da chave é <class 'str'> e o tip do valor é <class 'str'>\n",
      "A chave é bird e o valor é ave\n",
      "O tipo da chave é <class 'str'> e o tip do valor é <class 'str'>\n"
     ]
    }
   ],
   "source": [
    "for chave, valor in dict.items():\n",
    "    print(f\"A chave é {chave} e o valor é {valor}\")\n",
    "    print(f'O tipo da chave é {type(chave)} e o tip do valor é {type(valor)}')\n",
    "        "
   ]
  },
  {
   "cell_type": "markdown",
   "metadata": {},
   "source": [
    "### Checando existência de um item em um dict"
   ]
  },
  {
   "cell_type": "code",
   "execution_count": 46,
   "metadata": {},
   "outputs": [
    {
     "name": "stdout",
     "output_type": "stream",
     "text": [
      "O cachoro está no dicionário\n"
     ]
    }
   ],
   "source": [
    "if 'dog' in dict:\n",
    "    print(f\"O {dict['dog']} está no dicionário\")\n",
    "else:\n",
    "    print('Eu não sei a tradução dessa palavra')"
   ]
  },
  {
   "cell_type": "markdown",
   "metadata": {},
   "source": [
    "### **Adicionando itens no dicionário**"
   ]
  },
  {
   "cell_type": "code",
   "execution_count": 47,
   "metadata": {},
   "outputs": [
    {
     "name": "stdout",
     "output_type": "stream",
     "text": [
      "O macaco está no dicionário\n"
     ]
    }
   ],
   "source": [
    "dict['monkey'] = 'macaco'\n",
    "\n",
    "if 'monkey' in dict:\n",
    "    print(f\"O {dict['monkey']} está no dicionário\")\n",
    "else:\n",
    "    print('Eu não sei a tradução dessa palavra')"
   ]
  },
  {
   "cell_type": "code",
   "execution_count": 48,
   "metadata": {},
   "outputs": [
    {
     "name": "stdout",
     "output_type": "stream",
     "text": [
      "{'dog': 'cachoro', 'cat': 'gato', 'bird': 'ave', 'monkey': 'macaco'}\n"
     ]
    }
   ],
   "source": [
    "print(dict)"
   ]
  },
  {
   "cell_type": "markdown",
   "metadata": {},
   "source": [
    "**Removento Itens:**  \n",
    "**Pop:** Remove apenas um item  \n",
    "**Clear:** Limpa a lista (remove todos os itens)"
   ]
  },
  {
   "cell_type": "code",
   "execution_count": 52,
   "metadata": {},
   "outputs": [
    {
     "name": "stdout",
     "output_type": "stream",
     "text": [
      "{'dog': 'cachoro', 'cat': 'gato', 'bird': 'ave', 'monkey': 'macaco', 'banana': 'banana'}\n",
      "{'dog': 'cachoro', 'cat': 'gato', 'bird': 'ave', 'monkey': 'macaco'}\n"
     ]
    }
   ],
   "source": [
    "dict['banana'] = 'banana'\n",
    "print (dict)\n",
    "\n",
    "if 'banana' in dict:\n",
    "    dict.pop('banana')\n",
    "print(dict)"
   ]
  },
  {
   "cell_type": "code",
   "execution_count": 53,
   "metadata": {},
   "outputs": [
    {
     "name": "stdout",
     "output_type": "stream",
     "text": [
      "{}\n"
     ]
    }
   ],
   "source": [
    "dict.clear()\n",
    "print(dict)"
   ]
  }
 ],
 "metadata": {
  "kernelspec": {
   "display_name": "Python 3",
   "language": "python",
   "name": "python3"
  },
  "language_info": {
   "codemirror_mode": {
    "name": "ipython",
    "version": 3
   },
   "file_extension": ".py",
   "mimetype": "text/x-python",
   "name": "python",
   "nbconvert_exporter": "python",
   "pygments_lexer": "ipython3",
   "version": "3.8.5"
  }
 },
 "nbformat": 4,
 "nbformat_minor": 4
}
